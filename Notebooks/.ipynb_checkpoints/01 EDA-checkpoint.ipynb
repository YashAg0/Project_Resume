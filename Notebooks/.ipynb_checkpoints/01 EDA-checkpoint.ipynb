{
 "cells": [
  {
   "cell_type": "code",
   "execution_count": 6,
   "id": "88f612c1-48d3-4d8c-99d1-5b79b3953ac8",
   "metadata": {},
   "outputs": [],
   "source": [
    "import pandas as pd\n",
    "import numpy as np\n",
    "import matplotlib.pyplot as plt\n",
    "import seaborn as sns"
   ]
  },
  {
   "cell_type": "code",
   "execution_count": 26,
   "id": "0c2da13b-8d7a-4254-8d3a-2b57cd1de4fa",
   "metadata": {},
   "outputs": [
    {
     "data": {
      "text/html": [
       "<div>\n",
       "<style scoped>\n",
       "    .dataframe tbody tr th:only-of-type {\n",
       "        vertical-align: middle;\n",
       "    }\n",
       "\n",
       "    .dataframe tbody tr th {\n",
       "        vertical-align: top;\n",
       "    }\n",
       "\n",
       "    .dataframe thead th {\n",
       "        text-align: right;\n",
       "    }\n",
       "</style>\n",
       "<table border=\"1\" class=\"dataframe\">\n",
       "  <thead>\n",
       "    <tr style=\"text-align: right;\">\n",
       "      <th></th>\n",
       "      <th>Category</th>\n",
       "      <th>Resume</th>\n",
       "    </tr>\n",
       "  </thead>\n",
       "  <tbody>\n",
       "    <tr>\n",
       "      <th>656</th>\n",
       "      <td>Network Security Engineer</td>\n",
       "      <td>Communication Skills My writing skills in Engl...</td>\n",
       "    </tr>\n",
       "    <tr>\n",
       "      <th>566</th>\n",
       "      <td>Python Developer</td>\n",
       "      <td>Technical Skills: Languages Python Python Fram...</td>\n",
       "    </tr>\n",
       "    <tr>\n",
       "      <th>730</th>\n",
       "      <td>Database</td>\n",
       "      <td>TECHNICAL SKILLS â¢ SQL â¢ Oracle v10, v11, ...</td>\n",
       "    </tr>\n",
       "    <tr>\n",
       "      <th>782</th>\n",
       "      <td>Hadoop</td>\n",
       "      <td>Technical Skills Programming Languages: C, C++...</td>\n",
       "    </tr>\n",
       "    <tr>\n",
       "      <th>787</th>\n",
       "      <td>ETL Developer</td>\n",
       "      <td>SKILL SET â Talend Big Data â Informatica ...</td>\n",
       "    </tr>\n",
       "    <tr>\n",
       "      <th>85</th>\n",
       "      <td>Advocate</td>\n",
       "      <td>Education Details \\r\\n B.Com, LL.B.,   Univers...</td>\n",
       "    </tr>\n",
       "    <tr>\n",
       "      <th>127</th>\n",
       "      <td>Arts</td>\n",
       "      <td>I Other Skills Course/Skill Name Board Year Of...</td>\n",
       "    </tr>\n",
       "    <tr>\n",
       "      <th>314</th>\n",
       "      <td>Civil Engineer</td>\n",
       "      <td>Education Details \\r\\nJanuary 2005 S.S.C  Bara...</td>\n",
       "    </tr>\n",
       "    <tr>\n",
       "      <th>103</th>\n",
       "      <td>Advocate</td>\n",
       "      <td>â¢ Hard working â¢ Quick learnerEducation De...</td>\n",
       "    </tr>\n",
       "    <tr>\n",
       "      <th>369</th>\n",
       "      <td>Java Developer</td>\n",
       "      <td>Operating Systems Windows XP, 7, 10. Tools/Pac...</td>\n",
       "    </tr>\n",
       "  </tbody>\n",
       "</table>\n",
       "</div>"
      ],
      "text/plain": [
       "                      Category  \\\n",
       "656  Network Security Engineer   \n",
       "566           Python Developer   \n",
       "730                   Database   \n",
       "782                     Hadoop   \n",
       "787              ETL Developer   \n",
       "85                    Advocate   \n",
       "127                       Arts   \n",
       "314             Civil Engineer   \n",
       "103                   Advocate   \n",
       "369             Java Developer   \n",
       "\n",
       "                                                Resume  \n",
       "656  Communication Skills My writing skills in Engl...  \n",
       "566  Technical Skills: Languages Python Python Fram...  \n",
       "730  TECHNICAL SKILLS â¢ SQL â¢ Oracle v10, v11, ...  \n",
       "782  Technical Skills Programming Languages: C, C++...  \n",
       "787  SKILL SET â Talend Big Data â Informatica ...  \n",
       "85   Education Details \\r\\n B.Com, LL.B.,   Univers...  \n",
       "127  I Other Skills Course/Skill Name Board Year Of...  \n",
       "314  Education Details \\r\\nJanuary 2005 S.S.C  Bara...  \n",
       "103  â¢ Hard working â¢ Quick learnerEducation De...  \n",
       "369  Operating Systems Windows XP, 7, 10. Tools/Pac...  "
      ]
     },
     "execution_count": 26,
     "metadata": {},
     "output_type": "execute_result"
    }
   ],
   "source": [
    "df=pd.read_csv('../Datasets/UpdatedResumeDataSet.csv')\n",
    "df.sample(10)"
   ]
  },
  {
   "cell_type": "code",
   "execution_count": null,
   "id": "19e60b61-a191-4713-8fc3-73efa9b1715f",
   "metadata": {},
   "outputs": [],
   "source": []
  }
 ],
 "metadata": {
  "kernelspec": {
   "display_name": "Python [conda env:base] *",
   "language": "python",
   "name": "conda-base-py"
  },
  "language_info": {
   "codemirror_mode": {
    "name": "ipython",
    "version": 3
   },
   "file_extension": ".py",
   "mimetype": "text/x-python",
   "name": "python",
   "nbconvert_exporter": "python",
   "pygments_lexer": "ipython3",
   "version": "3.12.7"
  }
 },
 "nbformat": 4,
 "nbformat_minor": 5
}
